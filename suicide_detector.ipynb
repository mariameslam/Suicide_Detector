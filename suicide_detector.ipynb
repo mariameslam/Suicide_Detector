{
  "nbformat": 4,
  "nbformat_minor": 0,
  "metadata": {
    "colab": {
      "provenance": []
    },
    "kernelspec": {
      "name": "python3",
      "display_name": "Python 3"
    },
    "language_info": {
      "name": "python"
    }
  },
  "cells": [
    {
      "cell_type": "code",
      "execution_count": null,
      "metadata": {
        "id": "YkNwj0_sBTjS"
      },
      "outputs": [],
      "source": [
        "import pandas as pd\n",
        "import numpy as np \n",
        "import seaborn as sns\n",
        "import matplotlib.pyplot as plt\n",
        "\n",
        "from tensorflow.keras.layers import Dense\n",
        "from tensorflow.keras.preprocessing.text import one_hot\n",
        "from tensorflow.keras.layers import Embedding\n",
        "from tensorflow.keras.preprocessing.sequence import pad_sequences\n",
        "from tensorflow.keras.models import Sequential\n",
        "from tensorflow.keras.layers import Flatten\n",
        "\n",
        "from sklearn.metrics import confusion_matrix, classification_report\n",
        "from sklearn.model_selection import train_test_split\n",
        "from sklearn.preprocessing import LabelEncoder"
      ]
    },
    {
      "cell_type": "code",
      "source": [
        "! pip install kaggle\n",
        "! mkdir ~/.kaggle\n",
        "! cp kaggle.json ~/.kaggle/\n",
        "! chmod 600 ~/.kaggle/kaggle.json"
      ],
      "metadata": {
        "colab": {
          "base_uri": "https://localhost:8080/"
        },
        "id": "Yy_pZJtUBVJF",
        "outputId": "54f0c45a-57f5-4b99-8003-4b031fe8db76"
      },
      "execution_count": null,
      "outputs": [
        {
          "output_type": "stream",
          "name": "stdout",
          "text": [
            "Looking in indexes: https://pypi.org/simple, https://us-python.pkg.dev/colab-wheels/public/simple/\n",
            "Requirement already satisfied: kaggle in /usr/local/lib/python3.8/dist-packages (1.5.12)\n",
            "Requirement already satisfied: urllib3 in /usr/local/lib/python3.8/dist-packages (from kaggle) (1.24.3)\n",
            "Requirement already satisfied: requests in /usr/local/lib/python3.8/dist-packages (from kaggle) (2.23.0)\n",
            "Requirement already satisfied: six>=1.10 in /usr/local/lib/python3.8/dist-packages (from kaggle) (1.15.0)\n",
            "Requirement already satisfied: python-slugify in /usr/local/lib/python3.8/dist-packages (from kaggle) (7.0.0)\n",
            "Requirement already satisfied: certifi in /usr/local/lib/python3.8/dist-packages (from kaggle) (2022.12.7)\n",
            "Requirement already satisfied: tqdm in /usr/local/lib/python3.8/dist-packages (from kaggle) (4.64.1)\n",
            "Requirement already satisfied: python-dateutil in /usr/local/lib/python3.8/dist-packages (from kaggle) (2.8.2)\n",
            "Requirement already satisfied: text-unidecode>=1.3 in /usr/local/lib/python3.8/dist-packages (from python-slugify->kaggle) (1.3)\n",
            "Requirement already satisfied: chardet<4,>=3.0.2 in /usr/local/lib/python3.8/dist-packages (from requests->kaggle) (3.0.4)\n",
            "Requirement already satisfied: idna<3,>=2.5 in /usr/local/lib/python3.8/dist-packages (from requests->kaggle) (2.10)\n",
            "mkdir: cannot create directory ‘/root/.kaggle’: File exists\n"
          ]
        }
      ]
    },
    {
      "cell_type": "code",
      "source": [
        "! kaggle datasets download -d rnunez1975/suicide-detection-clean"
      ],
      "metadata": {
        "colab": {
          "base_uri": "https://localhost:8080/"
        },
        "id": "-MwbusdJBVL6",
        "outputId": "ea0525ab-cf1c-4542-9395-15d0751ef2d9"
      },
      "execution_count": null,
      "outputs": [
        {
          "output_type": "stream",
          "name": "stdout",
          "text": [
            "Downloading suicide-detection-clean.zip to /content\n",
            " 68% 36.0M/53.3M [00:00<00:00, 132MB/s] \n",
            "100% 53.3M/53.3M [00:00<00:00, 140MB/s]\n"
          ]
        }
      ]
    },
    {
      "cell_type": "code",
      "source": [
        "!unzip /content/suicide-detection-clean.zip"
      ],
      "metadata": {
        "colab": {
          "base_uri": "https://localhost:8080/"
        },
        "id": "vxUrXirqBVPD",
        "outputId": "e1e02890-1141-44a1-9544-9aa7d1cd4a57"
      },
      "execution_count": null,
      "outputs": [
        {
          "output_type": "stream",
          "name": "stdout",
          "text": [
            "Archive:  /content/suicide-detection-clean.zip\n",
            "  inflating: Suicide_Detection_clean.csv  \n"
          ]
        }
      ]
    },
    {
      "cell_type": "code",
      "source": [
        "data=pd.read_csv(\"/content/Suicide_Detection_clean.csv\")\n",
        "data = data.fillna('')\n",
        "print(data['class'].value_counts())\n",
        "print(data.columns)"
      ],
      "metadata": {
        "colab": {
          "base_uri": "https://localhost:8080/"
        },
        "id": "qi3d1WudBVSF",
        "outputId": "a3694497-d564-41c5-c9c8-41dd33cc03d4"
      },
      "execution_count": null,
      "outputs": [
        {
          "output_type": "stream",
          "name": "stdout",
          "text": [
            "suicide        116037\n",
            "non-suicide    116037\n",
            "Name: class, dtype: int64\n",
            "Index(['Unnamed: 0', 'Unnamed: 0.1', 'text', 'class'], dtype='object')\n"
          ]
        }
      ]
    },
    {
      "cell_type": "code",
      "source": [
        "indices  = data['text'].values\n",
        "labels = data['class'].values\n",
        "x_train, x_test, y_train, y_test = train_test_split(\n",
        "    indices , labels, test_size=0.20, random_state=1000)"
      ],
      "metadata": {
        "id": "5C0puZ78BVVA"
      },
      "execution_count": null,
      "outputs": []
    },
    {
      "cell_type": "code",
      "source": [
        "vocab_size = 700\n",
        "X_train = [one_hot(d, vocab_size,filters='!\"#$%&()*+,-./:;<=>?@[\\]^_`{|}~',lower=True, split=' ') for d in x_train]\n",
        "X_test = [one_hot(d, vocab_size,filters='!\"#$%&()*+,-./:;<=>?@[\\]^_`{|}~',lower=True, split=' ') for d in x_test]\n",
        "max_length = 50\n",
        "X_train = pad_sequences(X_train, maxlen=max_length, padding='pre')\n",
        "X_test = pad_sequences(X_test, maxlen=max_length, padding='pre')\n",
        "lb = LabelEncoder()\n",
        "Y_train = lb.fit_transform(y_train) \n",
        "Y_test = lb.fit_transform(y_test) \n",
        "model = Sequential()\n",
        "model.add(Embedding(vocab_size, 8, input_length=max_length))\n",
        "model.add(Flatten())\n",
        "model.add(Dense(1, activation='sigmoid'))\n",
        "model.compile(loss='binary_crossentropy', optimizer='adam', metrics=['accuracy'])\n",
        "print(model.summary())"
      ],
      "metadata": {
        "colab": {
          "base_uri": "https://localhost:8080/"
        },
        "id": "0QbsFPd6jFcd",
        "outputId": "562df008-4814-4e42-c788-173daf7d67b5"
      },
      "execution_count": null,
      "outputs": [
        {
          "output_type": "stream",
          "name": "stdout",
          "text": [
            "Model: \"sequential\"\n",
            "_________________________________________________________________\n",
            " Layer (type)                Output Shape              Param #   \n",
            "=================================================================\n",
            " embedding (Embedding)       (None, 50, 8)             5600      \n",
            "                                                                 \n",
            " flatten (Flatten)           (None, 400)               0         \n",
            "                                                                 \n",
            " dense (Dense)               (None, 1)                 401       \n",
            "                                                                 \n",
            "=================================================================\n",
            "Total params: 6,001\n",
            "Trainable params: 6,001\n",
            "Non-trainable params: 0\n",
            "_________________________________________________________________\n",
            "None\n"
          ]
        }
      ]
    },
    {
      "cell_type": "code",
      "source": [
        "model.fit(X_train, Y_train, batch_size=32, epochs=10)"
      ],
      "metadata": {
        "colab": {
          "base_uri": "https://localhost:8080/"
        },
        "id": "o8Esl82ln7xM",
        "outputId": "7b9d3fb7-7005-47b0-c16b-cb6e63c02082"
      },
      "execution_count": null,
      "outputs": [
        {
          "output_type": "stream",
          "name": "stdout",
          "text": [
            "Epoch 1/10\n",
            "5802/5802 [==============================] - 13s 2ms/step - loss: 0.3579 - accuracy: 0.8473\n",
            "Epoch 2/10\n",
            "5802/5802 [==============================] - 12s 2ms/step - loss: 0.3320 - accuracy: 0.8608\n",
            "Epoch 3/10\n",
            "5802/5802 [==============================] - 14s 2ms/step - loss: 0.3257 - accuracy: 0.8635\n",
            "Epoch 4/10\n",
            "5802/5802 [==============================] - 12s 2ms/step - loss: 0.3219 - accuracy: 0.8659\n",
            "Epoch 5/10\n",
            "5802/5802 [==============================] - 12s 2ms/step - loss: 0.3196 - accuracy: 0.8665\n",
            "Epoch 6/10\n",
            "5802/5802 [==============================] - 11s 2ms/step - loss: 0.3182 - accuracy: 0.8675\n",
            "Epoch 7/10\n",
            "5802/5802 [==============================] - 12s 2ms/step - loss: 0.3172 - accuracy: 0.8677\n",
            "Epoch 8/10\n",
            "5802/5802 [==============================] - 11s 2ms/step - loss: 0.3164 - accuracy: 0.8687\n",
            "Epoch 9/10\n",
            "5802/5802 [==============================] - 12s 2ms/step - loss: 0.3160 - accuracy: 0.8686\n",
            "Epoch 10/10\n",
            "5802/5802 [==============================] - 12s 2ms/step - loss: 0.3155 - accuracy: 0.8692\n"
          ]
        },
        {
          "output_type": "execute_result",
          "data": {
            "text/plain": [
              "<keras.callbacks.History at 0x7feb0c6a2070>"
            ]
          },
          "metadata": {},
          "execution_count": 12
        }
      ]
    },
    {
      "cell_type": "code",
      "source": [
        "loss, accuracy = model.evaluate(X_test, Y_test)\n",
        "print('Training Accuracy is {}'.format(accuracy*100))"
      ],
      "metadata": {
        "colab": {
          "base_uri": "https://localhost:8080/"
        },
        "id": "TJA888c4oUVA",
        "outputId": "1d20db06-7513-4fe6-f3d4-cea4839f4a1e"
      },
      "execution_count": null,
      "outputs": [
        {
          "output_type": "stream",
          "name": "stdout",
          "text": [
            "1451/1451 [==============================] - 3s 2ms/step - loss: 0.3407 - accuracy: 0.8562\n",
            "Training Accuracy is 85.62102913856506\n"
          ]
        }
      ]
    },
    {
      "cell_type": "code",
      "source": [
        "Y_pred=model.predict(X_test)\n",
        "Y_pred=(Y_pred>=0.5).astype(\"int\")\n",
        "confusion_mtx = confusion_matrix(Y_test, Y_pred) \n",
        "f,ax = plt.subplots(figsize=(8, 8))\n",
        "sns.heatmap(confusion_mtx, annot=True, linewidths=0.01,cmap=\"RdYlGn\",linecolor=\"gray\", fmt= '.1f',ax=ax)\n",
        "plt.xlabel(\"Predicted Label\")\n",
        "plt.ylabel(\"True Label\")\n",
        "plt.title(\"Confusion Matrix\")\n",
        "plt.show()"
      ],
      "metadata": {
        "colab": {
          "base_uri": "https://localhost:8080/",
          "height": 530
        },
        "id": "zywKjuMlFp9N",
        "outputId": "6f07baa5-caf3-447d-ed7a-fb75940f4062"
      },
      "execution_count": null,
      "outputs": [
        {
          "output_type": "stream",
          "name": "stdout",
          "text": [
            "1451/1451 [==============================] - 2s 1ms/step\n"
          ]
        },
        {
          "output_type": "display_data",
          "data": {
            "text/plain": [
              "<Figure size 576x576 with 2 Axes>"
            ],
            "image/png": "[encoded data removed]"
          },
          "metadata": {
            "needs_background": "light"
          }
        }
      ]
    },
    {
      "cell_type": "code",
      "source": [
        "def predict_category(s,model=model):\n",
        "    V=[s]\n",
        "    vocab_size = 700\n",
        "    VV = [one_hot(d, vocab_size,filters='!\"#$%&()*+,-./:;<=>?@[\\]^_`{|}~',lower=True, split=' ') for d in V]\n",
        "    max_length = 50\n",
        "    pr = pad_sequences(VV, maxlen=max_length, padding='pre')\n",
        "    pred=model.predict(pr)\n",
        "    pred=(pred>=0.5).astype(\"int\")\n",
        "    if pred[0] == 1:\n",
        "      x = 'suicide'\n",
        "    else:\n",
        "      x = 'non-suicide' \n",
        "    return x"
      ],
      "metadata": {
        "id": "q7S49MolDyvr"
      },
      "execution_count": null,
      "outputs": []
    },
    {
      "cell_type": "code",
      "source": [
        "predict_category('since the dead of my wife i feel void, i want to live no more')"
      ],
      "metadata": {
        "colab": {
          "base_uri": "https://localhost:8080/",
          "height": 53
        },
        "id": "RgxSm7gCD1x_",
        "outputId": "65b60c96-e318-46b5-ae93-225be9381068"
      },
      "execution_count": null,
      "outputs": [
        {
          "output_type": "stream",
          "name": "stdout",
          "text": [
            "1/1 [==============================] - 0s 33ms/step\n"
          ]
        },
        {
          "output_type": "execute_result",
          "data": {
            "text/plain": [
              "'suicide'"
            ],
            "application/vnd.google.colaboratory.intrinsic+json": {
              "type": "string"
            }
          },
          "metadata": {},
          "execution_count": 17
        }
      ]
    },
    {
      "cell_type": "code",
      "source": [
        "predict_category('i want to dance')"
      ],
      "metadata": {
        "colab": {
          "base_uri": "https://localhost:8080/",
          "height": 53
        },
        "id": "qs748aCgFapn",
        "outputId": "47c00e2b-3099-4e35-fbec-2536ad98b27f"
      },
      "execution_count": null,
      "outputs": [
        {
          "output_type": "stream",
          "name": "stdout",
          "text": [
            "1/1 [==============================] - 0s 18ms/step\n"
          ]
        },
        {
          "output_type": "execute_result",
          "data": {
            "text/plain": [
              "'non-suicide'"
            ],
            "application/vnd.google.colaboratory.intrinsic+json": {
              "type": "string"
            }
          },
          "metadata": {},
          "execution_count": 18
        }
      ]
    },
    {
      "cell_type": "code",
      "source": [
        "predict_category('i want to die')"
      ],
      "metadata": {
        "id": "WiOld9UdFgB3",
        "colab": {
          "base_uri": "https://localhost:8080/",
          "height": 53
        },
        "outputId": "30e46029-c187-4709-bcea-118f1f72d606"
      },
      "execution_count": null,
      "outputs": [
        {
          "output_type": "stream",
          "name": "stdout",
          "text": [
            "1/1 [==============================] - 0s 49ms/step\n"
          ]
        },
        {
          "output_type": "execute_result",
          "data": {
            "text/plain": [
              "'suicide'"
            ],
            "application/vnd.google.colaboratory.intrinsic+json": {
              "type": "string"
            }
          },
          "metadata": {},
          "execution_count": 24
        }
      ]
    },
    {
      "cell_type": "code",
      "source": [
        "predict_category('the pain came again, as if telling me that i would kill myself')"
      ],
      "metadata": {
        "id": "Yo3vxgItv3sj",
        "colab": {
          "base_uri": "https://localhost:8080/",
          "height": 53
        },
        "outputId": "052b315f-db4e-49ba-a9d2-14fe3c30e906"
      },
      "execution_count": null,
      "outputs": [
        {
          "output_type": "stream",
          "name": "stdout",
          "text": [
            "1/1 [==============================] - 0s 19ms/step\n"
          ]
        },
        {
          "output_type": "execute_result",
          "data": {
            "text/plain": [
              "'suicide'"
            ],
            "application/vnd.google.colaboratory.intrinsic+json": {
              "type": "string"
            }
          },
          "metadata": {},
          "execution_count": 32
        }
      ]
    },
    {
      "cell_type": "code",
      "source": [],
      "metadata": {
        "id": "ZgRhUrnu1xrd"
      },
      "execution_count": null,
      "outputs": []
    },
    {
      "cell_type": "code",
      "source": [],
      "metadata": {
        "id": "pR-X9ttj1xuo"
      },
      "execution_count": null,
      "outputs": []
    }
  ]
}